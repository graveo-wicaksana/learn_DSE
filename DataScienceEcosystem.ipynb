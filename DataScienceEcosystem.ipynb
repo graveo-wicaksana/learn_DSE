{
 "cells": [
  {
   "cell_type": "markdown",
   "id": "8bcef572",
   "metadata": {},
   "source": [
    "# Data Science Tools and Ecosystem"
   ]
  },
  {
   "cell_type": "markdown",
   "id": "c69548e0",
   "metadata": {},
   "source": [
    "In this notebook, data science tools and ecosystem will be explained. Hopefully, it can give insights for readers."
   ]
  },
  {
   "cell_type": "markdown",
   "id": "b143b538",
   "metadata": {},
   "source": [
    "Some of popular languages for data science are:\n",
    "\n",
    "1. Python\n",
    "2. R\n",
    "3. Julia\n",
    "4. Scala"
   ]
  },
  {
   "cell_type": "markdown",
   "id": "c2f70bb5",
   "metadata": {},
   "source": [
    "Some of commonly used library for data science are:\n",
    "\n",
    "1. pandas\n",
    "2. numpy\n",
    "3. matpotlib\n",
    "4. caret"
   ]
  },
  {
   "cell_type": "markdown",
   "id": "7aafaccb",
   "metadata": {},
   "source": [
    "| No | Common IDE |\n",
    "| -- | ---------- |\n",
    "| 1 | Jupyter Notebook |\n",
    "| 2 | Visual Studio Code |\n",
    "| 3 | RStudio |"
   ]
  },
  {
   "cell_type": "markdown",
   "id": "15f0ee53",
   "metadata": {},
   "source": [
    "### Below are example of arithmetic operations with result in Jupyter:"
   ]
  },
  {
   "cell_type": "code",
   "execution_count": 2,
   "id": "3c910e5d",
   "metadata": {},
   "outputs": [
    {
     "data": {
      "text/plain": [
       "17"
      ]
     },
     "execution_count": 2,
     "metadata": {},
     "output_type": "execute_result"
    }
   ],
   "source": [
    "#We will execute multiplication first, then do addition for interger numbers\n",
    "(3*4)+5"
   ]
  },
  {
   "cell_type": "code",
   "execution_count": 3,
   "id": "5e97b25a",
   "metadata": {},
   "outputs": [
    {
     "data": {
      "text/plain": [
       "3.3333333333333335"
      ]
     },
     "execution_count": 3,
     "metadata": {},
     "output_type": "execute_result"
    }
   ],
   "source": [
    "#This code will convert 200 minutes into hours by dividing by 60\n",
    "200 / 60"
   ]
  },
  {
   "cell_type": "markdown",
   "id": "df7c7558",
   "metadata": {},
   "source": [
    "**Objectives:**\n",
    "- List popular languages for data science\n",
    "- List commonly used library for data science\n",
    "- List commonly used IDE for data science\n",
    "- Using github for controlling version of system\n",
    "- Creating Markdown using Python languages\n"
   ]
  },
  {
   "cell_type": "markdown",
   "id": "9ad1d9ca",
   "metadata": {},
   "source": [
    "## Authors\n",
    "Graveo Wicaksana"
   ]
  },
  {
   "cell_type": "code",
   "execution_count": null,
   "id": "858d3998",
   "metadata": {},
   "outputs": [],
   "source": []
  }
 ],
 "metadata": {
  "kernelspec": {
   "display_name": "Python 3 (ipykernel)",
   "language": "python",
   "name": "python3"
  },
  "language_info": {
   "codemirror_mode": {
    "name": "ipython",
    "version": 3
   },
   "file_extension": ".py",
   "mimetype": "text/x-python",
   "name": "python",
   "nbconvert_exporter": "python",
   "pygments_lexer": "ipython3",
   "version": "3.10.9"
  }
 },
 "nbformat": 4,
 "nbformat_minor": 5
}
